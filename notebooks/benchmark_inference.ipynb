{
 "cells": [
  {
   "cell_type": "markdown",
   "metadata": {},
   "source": [
    "# Model inference benchmarking"
   ]
  },
  {
   "cell_type": "code",
   "execution_count": 1,
   "metadata": {},
   "outputs": [],
   "source": [
    "import gc\n",
    "import time\n",
    "\n",
    "import numpy as np\n",
    "import pandas as pd\n",
    "\n",
    "from tqdm import tqdm\n",
    "\n",
    "import torch\n",
    "\n",
    "import matplotlib.pyplot as plt\n",
    "\n",
    "from simulator.game.connect import Config, State, Action  # pyright: ignore[reportMissingModuleSource]\n",
    "\n",
    "from alphazero import RandomPredictor, Search\n",
    "from alphazero.model.connect import Model, states_to_tensor"
   ]
  },
  {
   "cell_type": "code",
   "execution_count": 2,
   "metadata": {},
   "outputs": [],
   "source": [
    "# The whole notebook will use Connect4\n",
    "config = Config(6, 7, 4)"
   ]
  },
  {
   "cell_type": "code",
   "execution_count": 3,
   "metadata": {},
   "outputs": [],
   "source": [
    "def measure(batch_size, device, num_repeats):\n",
    "    # Create default-initialized model; the actual weights do not matter here\n",
    "    # Note: model is assumed to already be on the device\n",
    "    model = Model(config.width).to(device)\n",
    "\n",
    "    # Inference time is independent of the actual game state\n",
    "    # Note: encoding time is not measured here\n",
    "    state = config.sample_initial_state()\n",
    "    states = [state] * batch_size\n",
    "    x = states_to_tensor(states)\n",
    "\n",
    "    # As done by `timeit`, disable garbage collection during measurement\n",
    "    gc.disable()\n",
    "\n",
    "    # Perform inference multiple times, for robust estimate\n",
    "    # Note: transfer between devices is included, and this also enforces synchronization!\n",
    "    start_time = time.perf_counter()\n",
    "    for _ in range(num_repeats):\n",
    "        with torch.no_grad():\n",
    "            policy_logits, value_logits = model(x.to(device))\n",
    "        policy_logits = policy_logits.cpu().numpy()\n",
    "        value_logits = value_logits.cpu().numpy()\n",
    "    end_time = time.perf_counter()\n",
    "    gc.enable()\n",
    "    duration = (end_time - start_time) / num_repeats\n",
    "    return duration"
   ]
  },
  {
   "cell_type": "code",
   "execution_count": 4,
   "metadata": {},
   "outputs": [],
   "source": [
    "# Let us pick a few batch sizes\n",
    "batch_sizes = [1, 2, 4, 8, 16, 32, 64, 128, 256, 512, 1024]"
   ]
  },
  {
   "cell_type": "code",
   "execution_count": 5,
   "metadata": {},
   "outputs": [],
   "source": [
    "# Use a few devices\n",
    "assert torch.backends.mps.is_available()\n",
    "devices = {\n",
    "    \"cpu\": torch.device(\"cpu\"),\n",
    "    \"mps\": torch.device(\"mps\"),\n",
    "}"
   ]
  },
  {
   "cell_type": "code",
   "execution_count": 6,
   "metadata": {},
   "outputs": [
    {
     "name": "stderr",
     "output_type": "stream",
     "text": [
      "cpu: 100%|██████████| 11/11 [01:09<00:00,  6.29s/it]\n",
      "mps: 100%|██████████| 11/11 [00:25<00:00,  2.28s/it]\n"
     ]
    }
   ],
   "source": [
    "# Do measurements\n",
    "df = pd.DataFrame(index=batch_sizes, columns=devices.keys())\n",
    "for device_name, device in devices.items():\n",
    "    for batch_size in tqdm(batch_sizes, desc=device_name):\n",
    "        duration = measure(batch_size, device, num_repeats=1000)\n",
    "        df.loc[batch_size, device_name] = duration"
   ]
  },
  {
   "cell_type": "code",
   "execution_count": 7,
   "metadata": {},
   "outputs": [
    {
     "data": {
      "text/html": [
       "<div>\n",
       "<style scoped>\n",
       "    .dataframe tbody tr th:only-of-type {\n",
       "        vertical-align: middle;\n",
       "    }\n",
       "\n",
       "    .dataframe tbody tr th {\n",
       "        vertical-align: top;\n",
       "    }\n",
       "\n",
       "    .dataframe thead th {\n",
       "        text-align: right;\n",
       "    }\n",
       "</style>\n",
       "<table border=\"1\" class=\"dataframe\">\n",
       "  <thead>\n",
       "    <tr style=\"text-align: right;\">\n",
       "      <th></th>\n",
       "      <th>cpu</th>\n",
       "      <th>mps</th>\n",
       "    </tr>\n",
       "  </thead>\n",
       "  <tbody>\n",
       "    <tr>\n",
       "      <th>1</th>\n",
       "      <td>0.119621</td>\n",
       "      <td>1.02526</td>\n",
       "    </tr>\n",
       "    <tr>\n",
       "      <th>2</th>\n",
       "      <td>0.237324</td>\n",
       "      <td>0.974136</td>\n",
       "    </tr>\n",
       "    <tr>\n",
       "      <th>4</th>\n",
       "      <td>0.259396</td>\n",
       "      <td>1.34637</td>\n",
       "    </tr>\n",
       "    <tr>\n",
       "      <th>8</th>\n",
       "      <td>0.34102</td>\n",
       "      <td>1.090783</td>\n",
       "    </tr>\n",
       "    <tr>\n",
       "      <th>16</th>\n",
       "      <td>1.528647</td>\n",
       "      <td>1.179443</td>\n",
       "    </tr>\n",
       "    <tr>\n",
       "      <th>32</th>\n",
       "      <td>2.092899</td>\n",
       "      <td>1.326052</td>\n",
       "    </tr>\n",
       "    <tr>\n",
       "      <th>64</th>\n",
       "      <td>3.571616</td>\n",
       "      <td>1.259309</td>\n",
       "    </tr>\n",
       "    <tr>\n",
       "      <th>128</th>\n",
       "      <td>5.627611</td>\n",
       "      <td>1.696019</td>\n",
       "    </tr>\n",
       "    <tr>\n",
       "      <th>256</th>\n",
       "      <td>8.238137</td>\n",
       "      <td>2.602917</td>\n",
       "    </tr>\n",
       "    <tr>\n",
       "      <th>512</th>\n",
       "      <td>15.643095</td>\n",
       "      <td>4.46269</td>\n",
       "    </tr>\n",
       "    <tr>\n",
       "      <th>1024</th>\n",
       "      <td>31.53125</td>\n",
       "      <td>8.001414</td>\n",
       "    </tr>\n",
       "  </tbody>\n",
       "</table>\n",
       "</div>"
      ],
      "text/plain": [
       "            cpu       mps\n",
       "1      0.119621   1.02526\n",
       "2      0.237324  0.974136\n",
       "4      0.259396   1.34637\n",
       "8       0.34102  1.090783\n",
       "16     1.528647  1.179443\n",
       "32     2.092899  1.326052\n",
       "64     3.571616  1.259309\n",
       "128    5.627611  1.696019\n",
       "256    8.238137  2.602917\n",
       "512   15.643095   4.46269\n",
       "1024   31.53125  8.001414"
      ]
     },
     "execution_count": 7,
     "metadata": {},
     "output_type": "execute_result"
    }
   ],
   "source": [
    "# Overall, inference is at millisecond-level\n",
    "df * 1e3"
   ]
  },
  {
   "cell_type": "code",
   "execution_count": 8,
   "metadata": {},
   "outputs": [
    {
     "data": {
      "text/html": [
       "<div>\n",
       "<style scoped>\n",
       "    .dataframe tbody tr th:only-of-type {\n",
       "        vertical-align: middle;\n",
       "    }\n",
       "\n",
       "    .dataframe tbody tr th {\n",
       "        vertical-align: top;\n",
       "    }\n",
       "\n",
       "    .dataframe thead th {\n",
       "        text-align: right;\n",
       "    }\n",
       "</style>\n",
       "<table border=\"1\" class=\"dataframe\">\n",
       "  <thead>\n",
       "    <tr style=\"text-align: right;\">\n",
       "      <th></th>\n",
       "      <th>cpu</th>\n",
       "      <th>mps</th>\n",
       "    </tr>\n",
       "  </thead>\n",
       "  <tbody>\n",
       "    <tr>\n",
       "      <th>1</th>\n",
       "      <td>119.621083</td>\n",
       "      <td>1025.25975</td>\n",
       "    </tr>\n",
       "    <tr>\n",
       "      <th>2</th>\n",
       "      <td>118.661771</td>\n",
       "      <td>487.068146</td>\n",
       "    </tr>\n",
       "    <tr>\n",
       "      <th>4</th>\n",
       "      <td>64.849031</td>\n",
       "      <td>336.592562</td>\n",
       "    </tr>\n",
       "    <tr>\n",
       "      <th>8</th>\n",
       "      <td>42.627547</td>\n",
       "      <td>136.347906</td>\n",
       "    </tr>\n",
       "    <tr>\n",
       "      <th>16</th>\n",
       "      <td>95.540469</td>\n",
       "      <td>73.715177</td>\n",
       "    </tr>\n",
       "    <tr>\n",
       "      <th>32</th>\n",
       "      <td>65.403079</td>\n",
       "      <td>41.439124</td>\n",
       "    </tr>\n",
       "    <tr>\n",
       "      <th>64</th>\n",
       "      <td>55.806496</td>\n",
       "      <td>19.676705</td>\n",
       "    </tr>\n",
       "    <tr>\n",
       "      <th>128</th>\n",
       "      <td>43.965714</td>\n",
       "      <td>13.250145</td>\n",
       "    </tr>\n",
       "    <tr>\n",
       "      <th>256</th>\n",
       "      <td>32.180223</td>\n",
       "      <td>10.167646</td>\n",
       "    </tr>\n",
       "    <tr>\n",
       "      <th>512</th>\n",
       "      <td>30.55292</td>\n",
       "      <td>8.716191</td>\n",
       "    </tr>\n",
       "    <tr>\n",
       "      <th>1024</th>\n",
       "      <td>30.792237</td>\n",
       "      <td>7.813881</td>\n",
       "    </tr>\n",
       "  </tbody>\n",
       "</table>\n",
       "</div>"
      ],
      "text/plain": [
       "             cpu         mps\n",
       "1     119.621083  1025.25975\n",
       "2     118.661771  487.068146\n",
       "4      64.849031  336.592562\n",
       "8      42.627547  136.347906\n",
       "16     95.540469   73.715177\n",
       "32     65.403079   41.439124\n",
       "64     55.806496   19.676705\n",
       "128    43.965714   13.250145\n",
       "256    32.180223   10.167646\n",
       "512     30.55292    8.716191\n",
       "1024   30.792237    7.813881"
      ]
     },
     "execution_count": 8,
     "metadata": {},
     "output_type": "execute_result"
    }
   ],
   "source": [
    "# Of course, batching does reduce the per-state cost, reaching tens of microseconds\n",
    "df.div(df.index, axis=0) * 1e6"
   ]
  },
  {
   "cell_type": "code",
   "execution_count": 9,
   "metadata": {},
   "outputs": [
    {
     "data": {
      "image/png": "[encoded data removed]",
      "text/plain": [
       "<Figure size 800x300 with 1 Axes>"
      ]
     },
     "metadata": {},
     "output_type": "display_data"
    }
   ],
   "source": [
    "ax = df.plot(figsize=(8, 3))\n",
    "# ax.set_xscale(\"log\")\n",
    "# ax.set_yscale(\"log\")"
   ]
  },
  {
   "cell_type": "code",
   "execution_count": 10,
   "metadata": {},
   "outputs": [
    {
     "data": {
      "image/png": "[encoded data removed]",
      "text/plain": [
       "<Figure size 800x300 with 1 Axes>"
      ]
     },
     "metadata": {},
     "output_type": "display_data"
    }
   ],
   "source": [
    "ax = df.div(df.index, axis=0).plot(figsize=(8, 3))\n",
    "ax.set_xscale(\"log\")\n",
    "ax.set_yscale(\"log\")"
   ]
  },
  {
   "cell_type": "code",
   "execution_count": 11,
   "metadata": {},
   "outputs": [],
   "source": [
    "# Now, let us look at the remaining part of the inference process, which is not batched\n",
    "state = config.sample_initial_state()"
   ]
  },
  {
   "cell_type": "code",
   "execution_count": 12,
   "metadata": {},
   "outputs": [],
   "source": [
    "# Use a dummy inference that has negligible cost\n",
    "predictor = RandomPredictor()"
   ]
  },
  {
   "cell_type": "code",
   "execution_count": 13,
   "metadata": {},
   "outputs": [
    {
     "data": {
      "text/plain": [
       "0.03476084891706705"
      ]
     },
     "execution_count": 13,
     "metadata": {},
     "output_type": "execute_result"
    }
   ],
   "source": [
    "# Again, doing measurement manually, `timeit` does not support asyncio\n",
    "num_repeats = 1000\n",
    "gc.disable()\n",
    "start_time = time.perf_counter()\n",
    "for _ in range(num_repeats):\n",
    "    search = Search(state, predictor, c_puct=1.0)\n",
    "    for _ in range(1000):\n",
    "        await search.step()\n",
    "end_time = time.perf_counter()\n",
    "gc.enable()\n",
    "duration = (end_time - start_time) / num_repeats\n",
    "duration"
   ]
  },
  {
   "cell_type": "code",
   "execution_count": 14,
   "metadata": {},
   "outputs": [],
   "source": [
    "# Therefore, for 1000 MCTS iterations on a single state, we roughly need:\n",
    "#  - 30ms in pure Python, for the tree traversal (incl. state and action computations)\n",
    "#  - 2000ms on MPS-side, for neural network inference itself (incl. synchronization and trandfer time)\n",
    "# However, if we exploit batching properly, the neural network can be amortized.\n",
    "# Starting a few hundreds of samples per batch, Python code cannot keep up and this would lead to GPU starvation."
   ]
  }
 ],
 "metadata": {
  "kernelspec": {
   "display_name": "board",
   "language": "python",
   "name": "python3"
  },
  "language_info": {
   "codemirror_mode": {
    "name": "ipython",
    "version": 3
   },
   "file_extension": ".py",
   "mimetype": "text/x-python",
   "name": "python",
   "nbconvert_exporter": "python",
   "pygments_lexer": "ipython3",
   "version": "3.11.8"
  }
 },
 "nbformat": 4,
 "nbformat_minor": 2
}
